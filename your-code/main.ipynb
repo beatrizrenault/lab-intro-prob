{
 "cells": [
  {
   "cell_type": "markdown",
   "metadata": {},
   "source": [
    "# Introduction To Probability\n",
    "## Challenge 1\n",
    "\n",
    "A and B are events of a probability space with $(\\omega, \\sigma, P)$ such that $P(A) = 0.3$, $P(B) = 0.6$ and $P(A \\cap B) = 0.1$\n",
    "\n",
    "Which of the following statements are false?\n",
    "* $P(A \\cup B) = 0.6$\n",
    "* $P(A \\cap B^{C}) = 0.2$\n",
    "* $P(A \\cap (B \\cup B^{C})) = 0.4$\n",
    "* $P(A^{C} \\cap B^{C}) = 0.3$\n",
    "* $P((A \\cap B)^{C}) = 0.9$"
   ]
  },
  {
   "cell_type": "code",
   "execution_count": null,
   "metadata": {},
   "outputs": [],
   "source": [
    "\"\"\"\n",
    "\n",
    "1) 𝑃(𝐴∪𝐵)= P(A) + P(B) - P(𝐴∩B)\n",
    "= 0.3 + 0.6 - 0.1 = 0.8 \n",
    "= False\n",
    "\n",
    "2) 𝑃(𝐴∩𝐵') \n",
    "is P(A) intersection with everything that is not in P(B). \n",
    "0.1 is in P(B), so:\n",
    "𝑃(𝐴∩𝐵') = P(A) - P(𝐴∩B)\n",
    "= 0.3 - 0.1 = 0.2\n",
    "= True\n",
    "\n",
    "3) 𝑃(𝐴∩(𝐵∪𝐵'))\n",
    "is the same as 𝑃(𝐴∩(B∪A)) (there is no value in 𝜔 that is not in P(A) or P(B) or both)\n",
    "with is an intersection of p(A) with everything else. \n",
    "So, it's P(A) = 0.3\n",
    "= False\n",
    "\n",
    "4)𝑃(𝐴'∩𝐵')=0.3\n",
    "same as 𝑃(𝐴∪𝐵)', with would be 0.0, because there is no value outside p(A) and p(B).\n",
    "= False\n",
    "#my colleagues think it's 0.2, I don't get why.\n",
    "\n",
    "5) 𝑃((𝐴∩𝐵)')=0.9\n",
    "probability of 'everything' but the intersection:\n",
    "1 - 0.1 = 0.9\n",
    "= True\n",
    "\n",
    "\"\"\""
   ]
  },
  {
   "cell_type": "markdown",
   "metadata": {},
   "source": [
    "## Challenge 2\n",
    "There is a box with 10 white balls, 12 red balls and 8 black balls. Calculate the probability of:\n",
    "* Taking a white ball out.\n",
    "* Taking a white ball out after taking a black ball out.\n",
    "* Taking a red ball out after taking a black and a red ball out.\n",
    "* Taking a red ball out after taking a black and a red ball out with reposition.\n",
    "\n",
    "**Hint**: Reposition means putting back the ball into the box after taking it out."
   ]
  },
  {
   "cell_type": "code",
   "execution_count": 7,
   "metadata": {},
   "outputs": [
    {
     "name": "stdout",
     "output_type": "stream",
     "text": [
      "0.3333333333333333\n",
      "0.09195402298850575\n",
      "0.04334975369458128\n",
      "0.04266666666666667\n"
     ]
    }
   ],
   "source": [
    "\n",
    "#1) 10/30 = \n",
    "print(10/30)\n",
    "\n",
    "#2) 8/30 X 10/29  = \n",
    "print( (8/30)*(10/29) )\n",
    "\n",
    "#3) Taking a red ball out after taking a black and THEN a red ball out:\n",
    "#8/30 X 12/29 X 11/28\n",
    "print( (8/30)*(12/29)*(11/28) )\n",
    "\n",
    "#4) 8/30 X 12/30 X 12/30\n",
    "print( (8/30)*(12/30)*(12/30) )\n",
    "\n",
    "\n"
   ]
  },
  {
   "cell_type": "code",
   "execution_count": null,
   "metadata": {},
   "outputs": [],
   "source": []
  },
  {
   "cell_type": "markdown",
   "metadata": {},
   "source": [
    "## Challenge 3\n",
    "\n",
    "You are planning to go on a picnic today but the morning is cloudy. You hate rain so you don't know whether to go out or stay home! To help you make a decision, you gather the following data about rainy days:\n",
    "\n",
    "* 50% of all rainy days start off cloudy!\n",
    "* Cloudy mornings are common. About 40% of days start cloudy. \n",
    "* This month is usually dry so only 3 of 30 days (10%) tend to be rainy. \n",
    "\n",
    "What is the chance of rain during the day?"
   ]
  },
  {
   "cell_type": "code",
   "execution_count": 8,
   "metadata": {},
   "outputs": [
    {
     "name": "stdout",
     "output_type": "stream",
     "text": [
      "0.125\n"
     ]
    }
   ],
   "source": [
    "\"\"\"\n",
    "Conditional probability:\n",
    "\n",
    "morning is cloudy w/ certainty, and I want to know about the rain: p(R|C) = ?\n",
    "probability of cloudy morning: p(C) = 0.4\n",
    "probability of rainy day: p(R) = 0.1\n",
    "p(C|R) = 0.5\n",
    "\n",
    "P(R|C) = 0.5 * 0.1 / 0.4\n",
    "\n",
    "\"\"\"\n",
    "\n",
    "print( (0.5 * 0.1 )/ 0.4 )"
   ]
  },
  {
   "cell_type": "markdown",
   "metadata": {},
   "source": [
    "## Challenge 4\n",
    "\n",
    "One thousand people were asked through a telephone survey whether they thought more street lighting is needed at night or not.\n",
    "\n",
    "Out of the 480 men that answered the survey, 324 said yes and 156 said no. On the other hand, out of the 520 women that answered, 351 said yes and 169 said no. \n",
    "\n",
    "We wonder if men and women have a different opinions about the street lighting matter. Is gender relevant or irrelevant to the question?\n",
    "\n",
    "Consider the following events:\n",
    "- The answer is yes, so the person that answered thinks that more street lighting is needed.\n",
    "- The person who answered is a man.\n",
    "\n",
    "We want to know if these events are independent, that is, if the fact of wanting more light depends on whether one is male or female. Are these events independent or not?\n",
    "\n",
    "**Hint**: To clearly compare the answers by gender, it is best to place the data in a table."
   ]
  },
  {
   "cell_type": "code",
   "execution_count": 9,
   "metadata": {},
   "outputs": [
    {
     "name": "stdout",
     "output_type": "stream",
     "text": [
      "          YES     NO TOTAL\n",
      "Male    0.675  0.325     1\n",
      "Female  0.675  0.325     1\n"
     ]
    }
   ],
   "source": [
    "# your code here\n",
    "import pandas as pd\n",
    "import numpy as np\n",
    "\n",
    "data = np.array([['GENDER','YES','NO', 'TOTAL'],\n",
    "                ['Male',0.675,0.325, 1],\n",
    "                ['Female',0.675,0.325, 1]])\n",
    "\n",
    "\n",
    "print(pd.DataFrame(data=data[1:,1:],\n",
    "                  index=data[1:,0],\n",
    "                  columns=data[0,1:]))"
   ]
  },
  {
   "cell_type": "code",
   "execution_count": 12,
   "metadata": {},
   "outputs": [
    {
     "name": "stdout",
     "output_type": "stream",
     "text": [
      "         YES    NO\n",
      "Male    0.48  0.48\n",
      "Female  0.52  0.52\n",
      "Total      1     1\n"
     ]
    }
   ],
   "source": [
    "data = np.array([['GENDER','YES','NO'],\n",
    "                ['Male',0.48,0.48],\n",
    "                ['Female',0.52,0.52],\n",
    "                ['Total',1,1]])\n",
    "\n",
    "\n",
    "print(pd.DataFrame(data=data[1:,1:],\n",
    "                  index=data[1:,0],\n",
    "                  columns=data[0,1:]))"
   ]
  },
  {
   "cell_type": "code",
   "execution_count": 13,
   "metadata": {},
   "outputs": [
    {
     "name": "stdout",
     "output_type": "stream",
     "text": [
      "0.675\n"
     ]
    }
   ],
   "source": [
    "\"\"\"\n",
    "IS p(Y|F) = p(Y) ?\n",
    "\n",
    "p(Y|F) = p(F|Y) *  p(Y)  /  p(F)\n",
    "p(Y|F) = 0.52 * 0.675   /  0.52\n",
    "\n",
    "IS p(Y|F) = p(Y) >> yes. Wich means the events are independent.\n",
    "\n",
    "IS p(Y|M) = p(Y) ?\n",
    "\n",
    "p(Y|M) = p(M|Y) *  p(Y)  /  p(M)\n",
    "p(Y|M) = 0.48 * 0.675   /  0.48\n",
    "\n",
    "IS p(Y|M) = p(Y) >> yes. Wich means the events are independent.\n",
    "\"\"\"\n",
    "\n",
    "print((0.52 * 0.675)   /  0.52)"
   ]
  }
 ],
 "metadata": {
  "kernelspec": {
   "display_name": "Python 3",
   "language": "python",
   "name": "python3"
  },
  "language_info": {
   "codemirror_mode": {
    "name": "ipython",
    "version": 3
   },
   "file_extension": ".py",
   "mimetype": "text/x-python",
   "name": "python",
   "nbconvert_exporter": "python",
   "pygments_lexer": "ipython3",
   "version": "3.7.4"
  }
 },
 "nbformat": 4,
 "nbformat_minor": 2
}
